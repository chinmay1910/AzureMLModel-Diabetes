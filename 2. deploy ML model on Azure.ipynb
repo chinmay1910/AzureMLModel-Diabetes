{
 "cells": [
  {
   "cell_type": "code",
   "execution_count": 3,
   "id": "b426e606-d061-43c8-9b3b-328eac49e65d",
   "metadata": {
    "scrolled": true
   },
   "outputs": [
    {
     "name": "stdout",
     "output_type": "stream",
     "text": [
      "Defaulting to user installation because normal site-packages is not writeable\n",
      "Requirement already satisfied: azureml-sdk in c:\\users\\chinmay\\appdata\\roaming\\python\\python310\\site-packages (1.55.0)\n",
      "Requirement already satisfied: azureml-pipeline~=1.55.0 in c:\\users\\chinmay\\appdata\\roaming\\python\\python310\\site-packages (from azureml-sdk) (1.55.0)\n",
      "Requirement already satisfied: azureml-core~=1.55.0 in c:\\users\\chinmay\\appdata\\roaming\\python\\python310\\site-packages (from azureml-sdk) (1.55.0.post2)\n",
      "Requirement already satisfied: azureml-train-core~=1.55.0 in c:\\users\\chinmay\\appdata\\roaming\\python\\python310\\site-packages (from azureml-sdk) (1.55.0)\n",
      "Requirement already satisfied: azureml-dataset-runtime[fuse]~=1.55.0 in c:\\users\\chinmay\\appdata\\roaming\\python\\python310\\site-packages (from azureml-sdk) (1.55.0)\n",
      "Requirement already satisfied: azureml-train-automl-client~=1.55.0 in c:\\users\\chinmay\\appdata\\roaming\\python\\python310\\site-packages (from azureml-sdk) (1.55.0.post1)\n",
      "Requirement already satisfied: azure-core<2.0.0 in c:\\users\\chinmay\\appdata\\roaming\\python\\python310\\site-packages (from azureml-core~=1.55.0->azureml-sdk) (1.30.1)\n",
      "Requirement already satisfied: azure-mgmt-storage<=22.0.0,>=16.0.0 in c:\\users\\chinmay\\appdata\\roaming\\python\\python310\\site-packages (from azureml-core~=1.55.0->azureml-sdk) (21.1.0)\n",
      "Requirement already satisfied: humanfriendly<11.0,>=4.7 in c:\\users\\chinmay\\appdata\\roaming\\python\\python310\\site-packages (from azureml-core~=1.55.0->azureml-sdk) (10.0)\n",
      "Requirement already satisfied: msrestazure<=0.6.4,>=0.4.33 in c:\\users\\chinmay\\appdata\\roaming\\python\\python310\\site-packages (from azureml-core~=1.55.0->azureml-sdk) (0.6.4)\n",
      "Requirement already satisfied: pyopenssl<25.0.0 in c:\\programdata\\anaconda3\\lib\\site-packages (from azureml-core~=1.55.0->azureml-sdk) (23.0.0)\n",
      "Requirement already satisfied: docker<8.0.0 in c:\\users\\chinmay\\appdata\\roaming\\python\\python310\\site-packages (from azureml-core~=1.55.0->azureml-sdk) (7.0.0)\n",
      "Requirement already satisfied: jsonpickle<4.0.0 in c:\\users\\chinmay\\appdata\\roaming\\python\\python310\\site-packages (from azureml-core~=1.55.0->azureml-sdk) (3.0.4)\n",
      "Requirement already satisfied: azure-graphrbac<1.0.0,>=0.40.0 in c:\\users\\chinmay\\appdata\\roaming\\python\\python310\\site-packages (from azureml-core~=1.55.0->azureml-sdk) (0.61.1)\n",
      "Requirement already satisfied: pytz in c:\\programdata\\anaconda3\\lib\\site-packages (from azureml-core~=1.55.0->azureml-sdk) (2022.7)\n",
      "Requirement already satisfied: azure-mgmt-containerregistry<11,>=8.2.0 in c:\\users\\chinmay\\appdata\\roaming\\python\\python310\\site-packages (from azureml-core~=1.55.0->azureml-sdk) (10.3.0)\n",
      "Requirement already satisfied: urllib3<3.0.0,>1.26.17 in c:\\users\\chinmay\\appdata\\roaming\\python\\python310\\site-packages (from azureml-core~=1.55.0->azureml-sdk) (1.26.18)\n",
      "Requirement already satisfied: packaging<=24.0,>=20.0 in c:\\programdata\\anaconda3\\lib\\site-packages (from azureml-core~=1.55.0->azureml-sdk) (22.0)\n",
      "Requirement already satisfied: adal<=1.2.7,>=1.2.0 in c:\\users\\chinmay\\appdata\\roaming\\python\\python310\\site-packages (from azureml-core~=1.55.0->azureml-sdk) (1.2.7)\n",
      "Requirement already satisfied: knack<0.12.0 in c:\\users\\chinmay\\appdata\\roaming\\python\\python310\\site-packages (from azureml-core~=1.55.0->azureml-sdk) (0.11.0)\n",
      "Requirement already satisfied: msal-extensions<=2.0.0,>=0.3.0 in c:\\users\\chinmay\\appdata\\roaming\\python\\python310\\site-packages (from azureml-core~=1.55.0->azureml-sdk) (1.1.0)\n",
      "Requirement already satisfied: paramiko<4.0.0,>=2.0.8 in c:\\programdata\\anaconda3\\lib\\site-packages (from azureml-core~=1.55.0->azureml-sdk) (2.8.1)\n",
      "Requirement already satisfied: azure-mgmt-network<=25.2.0 in c:\\users\\chinmay\\appdata\\roaming\\python\\python310\\site-packages (from azureml-core~=1.55.0->azureml-sdk) (25.2.0)\n",
      "Requirement already satisfied: requests[socks]<3.0.0,>=2.19.1 in c:\\programdata\\anaconda3\\lib\\site-packages (from azureml-core~=1.55.0->azureml-sdk) (2.28.1)\n",
      "Requirement already satisfied: contextlib2<22.0.0 in c:\\users\\chinmay\\appdata\\roaming\\python\\python310\\site-packages (from azureml-core~=1.55.0->azureml-sdk) (21.6.0)\n",
      "Requirement already satisfied: msal<2.0.0,>=1.15.0 in c:\\users\\chinmay\\appdata\\roaming\\python\\python310\\site-packages (from azureml-core~=1.55.0->azureml-sdk) (1.28.0)\n",
      "Requirement already satisfied: jmespath<2.0.0 in c:\\programdata\\anaconda3\\lib\\site-packages (from azureml-core~=1.55.0->azureml-sdk) (0.10.0)\n",
      "Requirement already satisfied: SecretStorage<4.0.0 in c:\\users\\chinmay\\appdata\\roaming\\python\\python310\\site-packages (from azureml-core~=1.55.0->azureml-sdk) (3.3.3)\n",
      "Requirement already satisfied: msrest<=0.7.1,>=0.5.1 in c:\\users\\chinmay\\appdata\\roaming\\python\\python310\\site-packages (from azureml-core~=1.55.0->azureml-sdk) (0.7.1)\n",
      "Requirement already satisfied: pathspec<1.0.0 in c:\\programdata\\anaconda3\\lib\\site-packages (from azureml-core~=1.55.0->azureml-sdk) (0.10.3)\n",
      "Requirement already satisfied: backports.tempfile in c:\\programdata\\anaconda3\\lib\\site-packages (from azureml-core~=1.55.0->azureml-sdk) (1.0)\n",
      "Requirement already satisfied: azure-mgmt-resource<=24.0.0,>=15.0.0 in c:\\users\\chinmay\\appdata\\roaming\\python\\python310\\site-packages (from azureml-core~=1.55.0->azureml-sdk) (23.0.1)\n",
      "Requirement already satisfied: ndg-httpsclient<=0.5.1 in c:\\users\\chinmay\\appdata\\roaming\\python\\python310\\site-packages (from azureml-core~=1.55.0->azureml-sdk) (0.5.1)\n",
      "Requirement already satisfied: azure-common<2.0.0,>=1.1.12 in c:\\users\\chinmay\\appdata\\roaming\\python\\python310\\site-packages (from azureml-core~=1.55.0->azureml-sdk) (1.1.28)\n",
      "Requirement already satisfied: PyJWT<3.0.0 in c:\\programdata\\anaconda3\\lib\\site-packages (from azureml-core~=1.55.0->azureml-sdk) (2.4.0)\n",
      "Requirement already satisfied: azure-mgmt-authorization<5,>=0.40.0 in c:\\users\\chinmay\\appdata\\roaming\\python\\python310\\site-packages (from azureml-core~=1.55.0->azureml-sdk) (4.0.0)\n",
      "Requirement already satisfied: azure-mgmt-keyvault<11.0.0,>=0.40.0 in c:\\users\\chinmay\\appdata\\roaming\\python\\python310\\site-packages (from azureml-core~=1.55.0->azureml-sdk) (10.3.0)\n",
      "Requirement already satisfied: python-dateutil<3.0.0,>=2.7.3 in c:\\programdata\\anaconda3\\lib\\site-packages (from azureml-core~=1.55.0->azureml-sdk) (2.8.2)\n",
      "Requirement already satisfied: pkginfo in c:\\programdata\\anaconda3\\lib\\site-packages (from azureml-core~=1.55.0->azureml-sdk) (1.8.3)\n",
      "Requirement already satisfied: argcomplete<4 in c:\\users\\chinmay\\appdata\\roaming\\python\\python310\\site-packages (from azureml-core~=1.55.0->azureml-sdk) (3.3.0)\n",
      "Requirement already satisfied: numpy!=1.19.4,<1.24 in c:\\programdata\\anaconda3\\lib\\site-packages (from azureml-dataset-runtime[fuse]~=1.55.0->azureml-sdk) (1.23.5)\n",
      "Requirement already satisfied: pyarrow>=0.17.0 in c:\\users\\chinmay\\appdata\\roaming\\python\\python310\\site-packages (from azureml-dataset-runtime[fuse]~=1.55.0->azureml-sdk) (16.0.0)\n",
      "Requirement already satisfied: azureml-dataprep<5.2.0a,>=5.1.0a in c:\\users\\chinmay\\appdata\\roaming\\python\\python310\\site-packages (from azureml-dataset-runtime[fuse]~=1.55.0->azureml-sdk) (5.1.6)\n",
      "Requirement already satisfied: fusepy<4.0.0,>=3.0.1 in c:\\users\\chinmay\\appdata\\roaming\\python\\python310\\site-packages (from azureml-dataset-runtime[fuse]~=1.55.0->azureml-sdk) (3.0.1)\n",
      "Requirement already satisfied: azureml-pipeline-core~=1.55.0 in c:\\users\\chinmay\\appdata\\roaming\\python\\python310\\site-packages (from azureml-pipeline~=1.55.0->azureml-sdk) (1.55.0)\n",
      "Requirement already satisfied: azureml-pipeline-steps~=1.55.0 in c:\\users\\chinmay\\appdata\\roaming\\python\\python310\\site-packages (from azureml-pipeline~=1.55.0->azureml-sdk) (1.55.0)\n",
      "Requirement already satisfied: azureml-telemetry~=1.55.0 in c:\\users\\chinmay\\appdata\\roaming\\python\\python310\\site-packages (from azureml-train-automl-client~=1.55.0->azureml-sdk) (1.55.0)\n",
      "Requirement already satisfied: azureml-automl-core~=1.55.0 in c:\\users\\chinmay\\appdata\\roaming\\python\\python310\\site-packages (from azureml-train-automl-client~=1.55.0->azureml-sdk) (1.55.0.post2)\n",
      "Requirement already satisfied: azureml-train-restclients-hyperdrive~=1.55.0 in c:\\users\\chinmay\\appdata\\roaming\\python\\python310\\site-packages (from azureml-train-core~=1.55.0->azureml-sdk) (1.55.0)\n",
      "Requirement already satisfied: cryptography>=1.1.0 in c:\\programdata\\anaconda3\\lib\\site-packages (from adal<=1.2.7,>=1.2.0->azureml-core~=1.55.0->azureml-sdk) (39.0.1)\n",
      "Requirement already satisfied: typing-extensions>=4.6.0 in c:\\users\\chinmay\\appdata\\roaming\\python\\python310\\site-packages (from azure-core<2.0.0->azureml-core~=1.55.0->azureml-sdk) (4.11.0)\n",
      "Requirement already satisfied: six>=1.11.0 in c:\\programdata\\anaconda3\\lib\\site-packages (from azure-core<2.0.0->azureml-core~=1.55.0->azureml-sdk) (1.16.0)\n",
      "Requirement already satisfied: isodate<1.0.0,>=0.6.1 in c:\\users\\chinmay\\appdata\\roaming\\python\\python310\\site-packages (from azure-mgmt-authorization<5,>=0.40.0->azureml-core~=1.55.0->azureml-sdk) (0.6.1)\n",
      "Requirement already satisfied: azure-mgmt-core<2.0.0,>=1.3.2 in c:\\users\\chinmay\\appdata\\roaming\\python\\python310\\site-packages (from azure-mgmt-authorization<5,>=0.40.0->azureml-core~=1.55.0->azureml-sdk) (1.4.0)\n",
      "Requirement already satisfied: azureml-dataprep-native<42.0.0,>=41.0.0 in c:\\users\\chinmay\\appdata\\roaming\\python\\python310\\site-packages (from azureml-dataprep<5.2.0a,>=5.1.0a->azureml-dataset-runtime[fuse]~=1.55.0->azureml-sdk) (41.0.0)\n",
      "Requirement already satisfied: azureml-dataprep-rslex~=2.22.2dev0 in c:\\users\\chinmay\\appdata\\roaming\\python\\python310\\site-packages (from azureml-dataprep<5.2.0a,>=5.1.0a->azureml-dataset-runtime[fuse]~=1.55.0->azureml-sdk) (2.22.2)\n",
      "Requirement already satisfied: pyyaml<7.0.0,>=5.1.0 in c:\\programdata\\anaconda3\\lib\\site-packages (from azureml-dataprep<5.2.0a,>=5.1.0a->azureml-dataset-runtime[fuse]~=1.55.0->azureml-sdk) (6.0)\n",
      "Requirement already satisfied: jsonschema in c:\\programdata\\anaconda3\\lib\\site-packages (from azureml-dataprep<5.2.0a,>=5.1.0a->azureml-dataset-runtime[fuse]~=1.55.0->azureml-sdk) (4.17.3)\n",
      "Requirement already satisfied: azure-identity>=1.7.0 in c:\\users\\chinmay\\appdata\\roaming\\python\\python310\\site-packages (from azureml-dataprep<5.2.0a,>=5.1.0a->azureml-dataset-runtime[fuse]~=1.55.0->azureml-sdk) (1.16.0)\n",
      "Requirement already satisfied: cloudpickle<3.0.0,>=1.1.0 in c:\\programdata\\anaconda3\\lib\\site-packages (from azureml-dataprep<5.2.0a,>=5.1.0a->azureml-dataset-runtime[fuse]~=1.55.0->azureml-sdk) (2.0.0)\n",
      "Requirement already satisfied: applicationinsights in c:\\users\\chinmay\\appdata\\roaming\\python\\python310\\site-packages (from azureml-telemetry~=1.55.0->azureml-train-automl-client~=1.55.0->azureml-sdk) (0.11.10)\n",
      "Requirement already satisfied: pywin32>=304 in c:\\programdata\\anaconda3\\lib\\site-packages (from docker<8.0.0->azureml-core~=1.55.0->azureml-sdk) (305.1)\n",
      "Requirement already satisfied: pyreadline3 in c:\\users\\chinmay\\appdata\\roaming\\python\\python310\\site-packages (from humanfriendly<11.0,>=4.7->azureml-core~=1.55.0->azureml-sdk) (3.4.1)\n",
      "Requirement already satisfied: pygments in c:\\programdata\\anaconda3\\lib\\site-packages (from knack<0.12.0->azureml-core~=1.55.0->azureml-sdk) (2.11.2)\n",
      "Requirement already satisfied: tabulate in c:\\programdata\\anaconda3\\lib\\site-packages (from knack<0.12.0->azureml-core~=1.55.0->azureml-sdk) (0.8.10)\n",
      "Requirement already satisfied: portalocker<3,>=1.6 in c:\\users\\chinmay\\appdata\\roaming\\python\\python310\\site-packages (from msal-extensions<=2.0.0,>=0.3.0->azureml-core~=1.55.0->azureml-sdk) (2.8.2)\n",
      "Requirement already satisfied: certifi>=2017.4.17 in c:\\programdata\\anaconda3\\lib\\site-packages (from msrest<=0.7.1,>=0.5.1->azureml-core~=1.55.0->azureml-sdk) (2022.12.7)\n",
      "Requirement already satisfied: requests-oauthlib>=0.5.0 in c:\\users\\chinmay\\appdata\\roaming\\python\\python310\\site-packages (from msrest<=0.7.1,>=0.5.1->azureml-core~=1.55.0->azureml-sdk) (2.0.0)\n",
      "Requirement already satisfied: pyasn1>=0.1.1 in c:\\programdata\\anaconda3\\lib\\site-packages (from ndg-httpsclient<=0.5.1->azureml-core~=1.55.0->azureml-sdk) (0.4.8)\n",
      "Requirement already satisfied: pynacl>=1.0.1 in c:\\programdata\\anaconda3\\lib\\site-packages (from paramiko<4.0.0,>=2.0.8->azureml-core~=1.55.0->azureml-sdk) (1.5.0)\n",
      "Requirement already satisfied: bcrypt>=3.1.3 in c:\\programdata\\anaconda3\\lib\\site-packages (from paramiko<4.0.0,>=2.0.8->azureml-core~=1.55.0->azureml-sdk) (3.2.0)\n",
      "Requirement already satisfied: idna<4,>=2.5 in c:\\programdata\\anaconda3\\lib\\site-packages (from requests[socks]<3.0.0,>=2.19.1->azureml-core~=1.55.0->azureml-sdk) (3.4)\n",
      "Requirement already satisfied: charset-normalizer<3,>=2 in c:\\programdata\\anaconda3\\lib\\site-packages (from requests[socks]<3.0.0,>=2.19.1->azureml-core~=1.55.0->azureml-sdk) (2.0.4)\n",
      "Requirement already satisfied: PySocks!=1.5.7,>=1.5.6 in c:\\programdata\\anaconda3\\lib\\site-packages (from requests[socks]<3.0.0,>=2.19.1->azureml-core~=1.55.0->azureml-sdk) (1.7.1)\n",
      "Requirement already satisfied: jeepney>=0.6 in c:\\users\\chinmay\\appdata\\roaming\\python\\python310\\site-packages (from SecretStorage<4.0.0->azureml-core~=1.55.0->azureml-sdk) (0.8.0)\n",
      "Requirement already satisfied: backports.weakref in c:\\programdata\\anaconda3\\lib\\site-packages (from backports.tempfile->azureml-core~=1.55.0->azureml-sdk) (1.0.post1)\n",
      "Requirement already satisfied: cffi>=1.1 in c:\\programdata\\anaconda3\\lib\\site-packages (from bcrypt>=3.1.3->paramiko<4.0.0,>=2.0.8->azureml-core~=1.55.0->azureml-sdk) (1.15.1)\n",
      "Requirement already satisfied: oauthlib>=3.0.0 in c:\\users\\chinmay\\appdata\\roaming\\python\\python310\\site-packages (from requests-oauthlib>=0.5.0->msrest<=0.7.1,>=0.5.1->azureml-core~=1.55.0->azureml-sdk) (3.2.2)\n",
      "Requirement already satisfied: pyrsistent!=0.17.0,!=0.17.1,!=0.17.2,>=0.14.0 in c:\\programdata\\anaconda3\\lib\\site-packages (from jsonschema->azureml-dataprep<5.2.0a,>=5.1.0a->azureml-dataset-runtime[fuse]~=1.55.0->azureml-sdk) (0.18.0)\n",
      "Requirement already satisfied: attrs>=17.4.0 in c:\\programdata\\anaconda3\\lib\\site-packages (from jsonschema->azureml-dataprep<5.2.0a,>=5.1.0a->azureml-dataset-runtime[fuse]~=1.55.0->azureml-sdk) (22.1.0)\n",
      "Requirement already satisfied: pycparser in c:\\programdata\\anaconda3\\lib\\site-packages (from cffi>=1.1->bcrypt>=3.1.3->paramiko<4.0.0,>=2.0.8->azureml-core~=1.55.0->azureml-sdk) (2.21)\n",
      "Note: you may need to restart the kernel to use updated packages.\n"
     ]
    }
   ],
   "source": [
    "%pip install azureml-sdk"
   ]
  },
  {
   "cell_type": "markdown",
   "id": "bde701c0-b13c-490e-8b5d-d28f0f94828e",
   "metadata": {},
   "source": [
    "**Importing the dependencies**"
   ]
  },
  {
   "cell_type": "code",
   "execution_count": 15,
   "id": "00622403-3ce4-49a3-bf79-46b4dd35d6f0",
   "metadata": {},
   "outputs": [],
   "source": [
    "import os\n",
    "import json\n",
    "import requests\n",
    "\n",
    "from collections.abc import Iterable\n",
    "\n",
    "from azureml.core import Workspace\n",
    "from azureml.core.model import Model\n",
    "from azureml.core.environment import Environment\n",
    "from azureml.core.conda_dependencies import CondaDependencies\n",
    "from azureml.core.model import InferenceConfig\n",
    "from azureml.core.webservice import AciWebservice, Webservice"
   ]
  },
  {
   "cell_type": "code",
   "execution_count": 16,
   "id": "20511285-c420-4366-a738-e363881489b4",
   "metadata": {},
   "outputs": [],
   "source": [
    "# laoding the configuration file - standard way - use .env file and load_dotenv from python-dotenv module\n",
    "config_file_path = \"config.json\"\n",
    "\n",
    "# Read JSON data into a dictionary\n",
    "with open(config_file_path, 'r') as file:\n",
    "    data = json.load(file)\n",
    "\n",
    "subscription_id = data[\"subscription_id\"]\n",
    "resource_group = data[\"resource_group\"]  \n",
    "workspace_name = data[\"workspace_name\"]\n",
    "region = data[\"region\"]"
   ]
  },
  {
   "cell_type": "code",
   "execution_count": 17,
   "id": "2181b4be-b18b-4f73-936c-b2df905c5c4f",
   "metadata": {},
   "outputs": [
    {
     "name": "stdout",
     "output_type": "stream",
     "text": [
      "mlflow-rg\n",
      "mlflow-ws\n",
      "Central India\n"
     ]
    }
   ],
   "source": [
    "print(resource_group)\n",
    "print(workspace_name)\n",
    "print(region)"
   ]
  },
  {
   "cell_type": "markdown",
   "id": "1169e424-9325-4eae-bb4a-6cd33ff84db9",
   "metadata": {},
   "source": [
    "**Create a Resource Group from Azure Portal**"
   ]
  },
  {
   "cell_type": "code",
   "execution_count": 20,
   "id": "67ea9e3f-95be-436d-b9de-e395c093b4c6",
   "metadata": {},
   "outputs": [
    {
     "ename": "WorkspaceException",
     "evalue": "WorkspaceException:\n\tMessage: Workspace with name 'mlflow-ws' already exists under resource group with name 'mlflow-rg'.\n\tInnerException None\n\tErrorResponse \n{\n    \"error\": {\n        \"message\": \"Workspace with name 'mlflow-ws' already exists under resource group with name 'mlflow-rg'.\"\n    }\n}",
     "output_type": "error",
     "traceback": [
      "\u001b[1;31m---------------------------------------------------------------------------\u001b[0m",
      "\u001b[1;31mWorkspaceException\u001b[0m                        Traceback (most recent call last)",
      "Cell \u001b[1;32mIn[20], line 3\u001b[0m\n\u001b[0;32m      1\u001b[0m \u001b[38;5;66;03m# Create a workspace\u001b[39;00m\n\u001b[1;32m----> 3\u001b[0m ws \u001b[38;5;241m=\u001b[39m \u001b[43mWorkspace\u001b[49m\u001b[38;5;241;43m.\u001b[39;49m\u001b[43mcreate\u001b[49m\u001b[43m(\u001b[49m\u001b[43mname\u001b[49m\u001b[38;5;241;43m=\u001b[39;49m\u001b[43mworkspace_name\u001b[49m\u001b[43m,\u001b[49m\n\u001b[0;32m      4\u001b[0m \u001b[43m                      \u001b[49m\u001b[43msubscription_id\u001b[49m\u001b[38;5;241;43m=\u001b[39;49m\u001b[43msubscription_id\u001b[49m\u001b[43m,\u001b[49m\n\u001b[0;32m      5\u001b[0m \u001b[43m                      \u001b[49m\u001b[43mresource_group\u001b[49m\u001b[38;5;241;43m=\u001b[39;49m\u001b[43mresource_group\u001b[49m\u001b[43m,\u001b[49m\n\u001b[0;32m      6\u001b[0m \u001b[43m                      \u001b[49m\u001b[43mlocation\u001b[49m\u001b[38;5;241;43m=\u001b[39;49m\u001b[43mregion\u001b[49m\u001b[43m)\u001b[49m\n\u001b[0;32m      8\u001b[0m \u001b[38;5;28mprint\u001b[39m(\u001b[38;5;124mf\u001b[39m\u001b[38;5;124m'\u001b[39m\u001b[38;5;124mWorkspace \u001b[39m\u001b[38;5;132;01m{\u001b[39;00mworkspace_name\u001b[38;5;132;01m}\u001b[39;00m\u001b[38;5;124m created\u001b[39m\u001b[38;5;124m'\u001b[39m)\n",
      "File \u001b[1;32m~\\AppData\\Roaming\\Python\\Python310\\site-packages\\azureml\\core\\workspace.py:546\u001b[0m, in \u001b[0;36mWorkspace.create\u001b[1;34m(name, auth, subscription_id, resource_group, location, create_resource_group, sku, tags, friendly_name, storage_account, key_vault, app_insights, container_registry, adb_workspace, primary_user_assigned_identity, cmk_keyvault, resource_cmk_uri, hbi_workspace, default_cpu_compute_target, default_gpu_compute_target, private_endpoint_config, private_endpoint_auto_approval, exist_ok, show_output, user_assigned_identity_for_cmk_encryption, system_datastores_auth_mode, v1_legacy_mode)\u001b[0m\n\u001b[0;32m    541\u001b[0m     private_endpoint_config\u001b[38;5;241m.\u001b[39mvnet_subscription_id \u001b[38;5;241m=\u001b[39m private_endpoint_config\u001b[38;5;241m.\u001b[39mvnet_subscription_id \\\n\u001b[0;32m    542\u001b[0m         \u001b[38;5;28;01mif\u001b[39;00m private_endpoint_config\u001b[38;5;241m.\u001b[39mvnet_subscription_id \u001b[38;5;28;01melse\u001b[39;00m subscription_id\n\u001b[0;32m    543\u001b[0m     private_endpoint_config\u001b[38;5;241m.\u001b[39mvnet_resource_group \u001b[38;5;241m=\u001b[39m private_endpoint_config\u001b[38;5;241m.\u001b[39mvnet_resource_group \\\n\u001b[0;32m    544\u001b[0m         \u001b[38;5;28;01mif\u001b[39;00m private_endpoint_config\u001b[38;5;241m.\u001b[39mvnet_resource_group \u001b[38;5;28;01melse\u001b[39;00m resource_group\n\u001b[1;32m--> 546\u001b[0m \u001b[38;5;28;01mreturn\u001b[39;00m \u001b[43mWorkspace\u001b[49m\u001b[38;5;241;43m.\u001b[39;49m\u001b[43m_create_legacy\u001b[49m\u001b[43m(\u001b[49m\n\u001b[0;32m    547\u001b[0m \u001b[43m    \u001b[49m\u001b[43mauth\u001b[49m\u001b[43m,\u001b[49m\n\u001b[0;32m    548\u001b[0m \u001b[43m    \u001b[49m\u001b[43msubscription_id\u001b[49m\u001b[43m,\u001b[49m\n\u001b[0;32m    549\u001b[0m \u001b[43m    \u001b[49m\u001b[43mresource_group\u001b[49m\u001b[43m,\u001b[49m\n\u001b[0;32m    550\u001b[0m \u001b[43m    \u001b[49m\u001b[43mname\u001b[49m\u001b[43m,\u001b[49m\n\u001b[0;32m    551\u001b[0m \u001b[43m    \u001b[49m\u001b[43mlocation\u001b[49m\u001b[38;5;241;43m=\u001b[39;49m\u001b[43mlocation\u001b[49m\u001b[43m,\u001b[49m\n\u001b[0;32m    552\u001b[0m \u001b[43m    \u001b[49m\u001b[43mcreate_resource_group\u001b[49m\u001b[38;5;241;43m=\u001b[39;49m\u001b[43mcreate_resource_group\u001b[49m\u001b[43m,\u001b[49m\n\u001b[0;32m    553\u001b[0m \u001b[43m    \u001b[49m\u001b[43msku\u001b[49m\u001b[38;5;241;43m=\u001b[39;49m\u001b[38;5;124;43m\"\u001b[39;49m\u001b[38;5;124;43mbasic\u001b[39;49m\u001b[38;5;124;43m\"\u001b[39;49m\u001b[43m,\u001b[49m\n\u001b[0;32m    554\u001b[0m \u001b[43m    \u001b[49m\u001b[43mtags\u001b[49m\u001b[38;5;241;43m=\u001b[39;49m\u001b[43mtags\u001b[49m\u001b[43m,\u001b[49m\n\u001b[0;32m    555\u001b[0m \u001b[43m    \u001b[49m\u001b[43mfriendly_name\u001b[49m\u001b[38;5;241;43m=\u001b[39;49m\u001b[43mfriendly_name\u001b[49m\u001b[43m,\u001b[49m\n\u001b[0;32m    556\u001b[0m \u001b[43m    \u001b[49m\u001b[43mstorage_account\u001b[49m\u001b[38;5;241;43m=\u001b[39;49m\u001b[43mstorage_account\u001b[49m\u001b[43m,\u001b[49m\n\u001b[0;32m    557\u001b[0m \u001b[43m    \u001b[49m\u001b[43mkey_vault\u001b[49m\u001b[38;5;241;43m=\u001b[39;49m\u001b[43mkey_vault\u001b[49m\u001b[43m,\u001b[49m\n\u001b[0;32m    558\u001b[0m \u001b[43m    \u001b[49m\u001b[43mapp_insights\u001b[49m\u001b[38;5;241;43m=\u001b[39;49m\u001b[43mapp_insights\u001b[49m\u001b[43m,\u001b[49m\n\u001b[0;32m    559\u001b[0m \u001b[43m    \u001b[49m\u001b[43mcontainer_registry\u001b[49m\u001b[38;5;241;43m=\u001b[39;49m\u001b[43mcontainer_registry\u001b[49m\u001b[43m,\u001b[49m\n\u001b[0;32m    560\u001b[0m \u001b[43m    \u001b[49m\u001b[43madb_workspace\u001b[49m\u001b[38;5;241;43m=\u001b[39;49m\u001b[43madb_workspace\u001b[49m\u001b[43m,\u001b[49m\n\u001b[0;32m    561\u001b[0m \u001b[43m    \u001b[49m\u001b[43mprimary_user_assigned_identity\u001b[49m\u001b[38;5;241;43m=\u001b[39;49m\u001b[43mprimary_user_assigned_identity\u001b[49m\u001b[43m,\u001b[49m\n\u001b[0;32m    562\u001b[0m \u001b[43m    \u001b[49m\u001b[43mcmk_keyvault\u001b[49m\u001b[38;5;241;43m=\u001b[39;49m\u001b[43mcmk_keyvault\u001b[49m\u001b[43m,\u001b[49m\n\u001b[0;32m    563\u001b[0m \u001b[43m    \u001b[49m\u001b[43mresource_cmk_uri\u001b[49m\u001b[38;5;241;43m=\u001b[39;49m\u001b[43mresource_cmk_uri\u001b[49m\u001b[43m,\u001b[49m\n\u001b[0;32m    564\u001b[0m \u001b[43m    \u001b[49m\u001b[43mhbi_workspace\u001b[49m\u001b[38;5;241;43m=\u001b[39;49m\u001b[43mhbi_workspace\u001b[49m\u001b[43m,\u001b[49m\n\u001b[0;32m    565\u001b[0m \u001b[43m    \u001b[49m\u001b[43mdefault_cpu_compute_target\u001b[49m\u001b[38;5;241;43m=\u001b[39;49m\u001b[43mdefault_cpu_compute_target\u001b[49m\u001b[43m,\u001b[49m\n\u001b[0;32m    566\u001b[0m \u001b[43m    \u001b[49m\u001b[43mdefault_gpu_compute_target\u001b[49m\u001b[38;5;241;43m=\u001b[39;49m\u001b[43mdefault_gpu_compute_target\u001b[49m\u001b[43m,\u001b[49m\n\u001b[0;32m    567\u001b[0m \u001b[43m    \u001b[49m\u001b[43mprivate_endpoint_config\u001b[49m\u001b[38;5;241;43m=\u001b[39;49m\u001b[43mprivate_endpoint_config\u001b[49m\u001b[43m,\u001b[49m\n\u001b[0;32m    568\u001b[0m \u001b[43m    \u001b[49m\u001b[43mprivate_endpoint_auto_approval\u001b[49m\u001b[38;5;241;43m=\u001b[39;49m\u001b[43mprivate_endpoint_auto_approval\u001b[49m\u001b[43m,\u001b[49m\n\u001b[0;32m    569\u001b[0m \u001b[43m    \u001b[49m\u001b[43mexist_ok\u001b[49m\u001b[38;5;241;43m=\u001b[39;49m\u001b[43mexist_ok\u001b[49m\u001b[43m,\u001b[49m\n\u001b[0;32m    570\u001b[0m \u001b[43m    \u001b[49m\u001b[43mshow_output\u001b[49m\u001b[38;5;241;43m=\u001b[39;49m\u001b[43mshow_output\u001b[49m\u001b[43m,\u001b[49m\n\u001b[0;32m    571\u001b[0m \u001b[43m    \u001b[49m\u001b[43muser_assigned_identity_for_cmk_encryption\u001b[49m\u001b[38;5;241;43m=\u001b[39;49m\u001b[43muser_assigned_identity_for_cmk_encryption\u001b[49m\u001b[43m,\u001b[49m\n\u001b[0;32m    572\u001b[0m \u001b[43m    \u001b[49m\u001b[43msystem_datastores_auth_mode\u001b[49m\u001b[38;5;241;43m=\u001b[39;49m\u001b[43msystem_datastores_auth_mode\u001b[49m\u001b[43m,\u001b[49m\n\u001b[0;32m    573\u001b[0m \u001b[43m    \u001b[49m\u001b[43mv1_legacy_mode\u001b[49m\u001b[38;5;241;43m=\u001b[39;49m\u001b[43mv1_legacy_mode\u001b[49m\u001b[43m)\u001b[49m\n",
      "File \u001b[1;32m~\\AppData\\Roaming\\Python\\Python310\\site-packages\\azureml\\core\\workspace.py:1684\u001b[0m, in \u001b[0;36mWorkspace._create_legacy\u001b[1;34m(auth, subscription_id, resource_group_name, workspace_name, location, create_resource_group, sku, tags, friendly_name, storage_account, key_vault, app_insights, container_registry, adb_workspace, primary_user_assigned_identity, cmk_keyvault, resource_cmk_uri, hbi_workspace, default_cpu_compute_target, default_gpu_compute_target, private_endpoint_config, private_endpoint_auto_approval, exist_ok, show_output, user_assigned_identity_for_cmk_encryption, system_datastores_auth_mode, v1_legacy_mode)\u001b[0m\n\u001b[0;32m   1592\u001b[0m \u001b[38;5;129m@staticmethod\u001b[39m\n\u001b[0;32m   1593\u001b[0m \u001b[38;5;28;01mdef\u001b[39;00m \u001b[38;5;21m_create_legacy\u001b[39m(\n\u001b[0;32m   1594\u001b[0m         auth,\n\u001b[1;32m   (...)\u001b[0m\n\u001b[0;32m   1619\u001b[0m         system_datastores_auth_mode\u001b[38;5;241m=\u001b[39m\u001b[38;5;124m\"\u001b[39m\u001b[38;5;124maccessKey\u001b[39m\u001b[38;5;124m\"\u001b[39m,\n\u001b[0;32m   1620\u001b[0m         v1_legacy_mode\u001b[38;5;241m=\u001b[39m\u001b[38;5;28;01mNone\u001b[39;00m):\n\u001b[0;32m   1621\u001b[0m     \u001b[38;5;124;03m\"\"\"Create a workspace.\u001b[39;00m\n\u001b[0;32m   1622\u001b[0m \n\u001b[0;32m   1623\u001b[0m \u001b[38;5;124;03m    :param auth: Authentication object. For more details refer to https://aka.ms/aml-notebook-auth.\u001b[39;00m\n\u001b[1;32m   (...)\u001b[0m\n\u001b[0;32m   1682\u001b[0m \u001b[38;5;124;03m    :rtype: azureml.core.workspace.Workspace\u001b[39;00m\n\u001b[0;32m   1683\u001b[0m \u001b[38;5;124;03m    \"\"\"\u001b[39;00m\n\u001b[1;32m-> 1684\u001b[0m     workspace_object_autorest \u001b[38;5;241m=\u001b[39m \u001b[43m_commands\u001b[49m\u001b[38;5;241;43m.\u001b[39;49m\u001b[43mcreate_or_update_workspace\u001b[49m\u001b[43m(\u001b[49m\n\u001b[0;32m   1685\u001b[0m \u001b[43m        \u001b[49m\u001b[43mauth\u001b[49m\u001b[43m,\u001b[49m\u001b[43m \u001b[49m\u001b[43mresource_group_name\u001b[49m\u001b[43m,\u001b[49m\u001b[43m \u001b[49m\u001b[43mworkspace_name\u001b[49m\u001b[43m,\u001b[49m\u001b[43m \u001b[49m\u001b[43msubscription_id\u001b[49m\u001b[43m,\u001b[49m\u001b[43m \u001b[49m\u001b[43mlocation\u001b[49m\u001b[38;5;241;43m=\u001b[39;49m\u001b[43mlocation\u001b[49m\u001b[43m,\u001b[49m\n\u001b[0;32m   1686\u001b[0m \u001b[43m        \u001b[49m\u001b[43mcreate_resource_group\u001b[49m\u001b[38;5;241;43m=\u001b[39;49m\u001b[43mcreate_resource_group\u001b[49m\u001b[43m,\u001b[49m\n\u001b[0;32m   1687\u001b[0m \u001b[43m        \u001b[49m\u001b[43msku\u001b[49m\u001b[38;5;241;43m=\u001b[39;49m\u001b[43msku\u001b[49m\u001b[43m,\u001b[49m\n\u001b[0;32m   1688\u001b[0m \u001b[43m        \u001b[49m\u001b[43mtags\u001b[49m\u001b[38;5;241;43m=\u001b[39;49m\u001b[43mtags\u001b[49m\u001b[43m,\u001b[49m\n\u001b[0;32m   1689\u001b[0m \u001b[43m        \u001b[49m\u001b[43mfriendly_name\u001b[49m\u001b[38;5;241;43m=\u001b[39;49m\u001b[43mfriendly_name\u001b[49m\u001b[43m,\u001b[49m\n\u001b[0;32m   1690\u001b[0m \u001b[43m        \u001b[49m\u001b[43mstorage_account\u001b[49m\u001b[38;5;241;43m=\u001b[39;49m\u001b[43mstorage_account\u001b[49m\u001b[43m,\u001b[49m\n\u001b[0;32m   1691\u001b[0m \u001b[43m        \u001b[49m\u001b[43mkey_vault\u001b[49m\u001b[38;5;241;43m=\u001b[39;49m\u001b[43mkey_vault\u001b[49m\u001b[43m,\u001b[49m\n\u001b[0;32m   1692\u001b[0m \u001b[43m        \u001b[49m\u001b[43mapp_insights\u001b[49m\u001b[38;5;241;43m=\u001b[39;49m\u001b[43mapp_insights\u001b[49m\u001b[43m,\u001b[49m\n\u001b[0;32m   1693\u001b[0m \u001b[43m        \u001b[49m\u001b[43mcontainerRegistry\u001b[49m\u001b[38;5;241;43m=\u001b[39;49m\u001b[43mcontainer_registry\u001b[49m\u001b[43m,\u001b[49m\n\u001b[0;32m   1694\u001b[0m \u001b[43m        \u001b[49m\u001b[43madb_workspace\u001b[49m\u001b[38;5;241;43m=\u001b[39;49m\u001b[43madb_workspace\u001b[49m\u001b[43m,\u001b[49m\n\u001b[0;32m   1695\u001b[0m \u001b[43m        \u001b[49m\u001b[43mprimary_user_assigned_identity\u001b[49m\u001b[38;5;241;43m=\u001b[39;49m\u001b[43mprimary_user_assigned_identity\u001b[49m\u001b[43m,\u001b[49m\n\u001b[0;32m   1696\u001b[0m \u001b[43m        \u001b[49m\u001b[43mcmk_keyvault\u001b[49m\u001b[38;5;241;43m=\u001b[39;49m\u001b[43mcmk_keyvault\u001b[49m\u001b[43m,\u001b[49m\n\u001b[0;32m   1697\u001b[0m \u001b[43m        \u001b[49m\u001b[43mresource_cmk_uri\u001b[49m\u001b[38;5;241;43m=\u001b[39;49m\u001b[43mresource_cmk_uri\u001b[49m\u001b[43m,\u001b[49m\n\u001b[0;32m   1698\u001b[0m \u001b[43m        \u001b[49m\u001b[43mhbi_workspace\u001b[49m\u001b[38;5;241;43m=\u001b[39;49m\u001b[43mhbi_workspace\u001b[49m\u001b[43m,\u001b[49m\n\u001b[0;32m   1699\u001b[0m \u001b[43m        \u001b[49m\u001b[43mdefault_cpu_compute_target\u001b[49m\u001b[38;5;241;43m=\u001b[39;49m\u001b[43mdefault_cpu_compute_target\u001b[49m\u001b[43m,\u001b[49m\n\u001b[0;32m   1700\u001b[0m \u001b[43m        \u001b[49m\u001b[43mdefault_gpu_compute_target\u001b[49m\u001b[38;5;241;43m=\u001b[39;49m\u001b[43mdefault_gpu_compute_target\u001b[49m\u001b[43m,\u001b[49m\n\u001b[0;32m   1701\u001b[0m \u001b[43m        \u001b[49m\u001b[43mprivate_endpoint_config\u001b[49m\u001b[38;5;241;43m=\u001b[39;49m\u001b[43mprivate_endpoint_config\u001b[49m\u001b[43m,\u001b[49m\n\u001b[0;32m   1702\u001b[0m \u001b[43m        \u001b[49m\u001b[43mprivate_endpoint_auto_approval\u001b[49m\u001b[38;5;241;43m=\u001b[39;49m\u001b[43mprivate_endpoint_auto_approval\u001b[49m\u001b[43m,\u001b[49m\n\u001b[0;32m   1703\u001b[0m \u001b[43m        \u001b[49m\u001b[43mexist_ok\u001b[49m\u001b[38;5;241;43m=\u001b[39;49m\u001b[43mexist_ok\u001b[49m\u001b[43m,\u001b[49m\u001b[43m \u001b[49m\u001b[43mshow_output\u001b[49m\u001b[38;5;241;43m=\u001b[39;49m\u001b[43mshow_output\u001b[49m\u001b[43m,\u001b[49m\n\u001b[0;32m   1704\u001b[0m \u001b[43m        \u001b[49m\u001b[43muser_assigned_identity_for_cmk_encryption\u001b[49m\u001b[38;5;241;43m=\u001b[39;49m\u001b[43muser_assigned_identity_for_cmk_encryption\u001b[49m\u001b[43m,\u001b[49m\n\u001b[0;32m   1705\u001b[0m \u001b[43m        \u001b[49m\u001b[43msystem_datastores_auth_mode\u001b[49m\u001b[38;5;241;43m=\u001b[39;49m\u001b[43msystem_datastores_auth_mode\u001b[49m\u001b[43m,\u001b[49m\n\u001b[0;32m   1706\u001b[0m \u001b[43m        \u001b[49m\u001b[43mv1_legacy_mode\u001b[49m\u001b[38;5;241;43m=\u001b[39;49m\u001b[43mv1_legacy_mode\u001b[49m\u001b[43m)\u001b[49m\n\u001b[0;32m   1707\u001b[0m     \u001b[38;5;28;01mif\u001b[39;00m \u001b[38;5;129;01mnot\u001b[39;00m workspace_object_autorest:\n\u001b[0;32m   1708\u001b[0m         \u001b[38;5;28;01mraise\u001b[39;00m WorkspaceException(\u001b[38;5;124m\"\u001b[39m\u001b[38;5;124mCouldn\u001b[39m\u001b[38;5;124m'\u001b[39m\u001b[38;5;124mt create the workspace.\u001b[39m\u001b[38;5;124m\"\u001b[39m)\n",
      "File \u001b[1;32m~\\AppData\\Roaming\\Python\\Python310\\site-packages\\azureml\\_project\\_commands.py:387\u001b[0m, in \u001b[0;36mcreate_or_update_workspace\u001b[1;34m(auth, resource_group_name, workspace_name, subscription_id, location, create_resource_group, sku, tags, friendly_name, storage_account, key_vault, app_insights, containerRegistry, adb_workspace, primary_user_assigned_identity, cmk_keyvault, resource_cmk_uri, hbi_workspace, default_cpu_compute_target, default_gpu_compute_target, private_endpoint_config, private_endpoint_auto_approval, exist_ok, show_output, user_assigned_identity_for_cmk_encryption, system_datastores_auth_mode, v1_legacy_mode, is_update_dependent_resources, api_version)\u001b[0m\n\u001b[0;32m    384\u001b[0m         \u001b[38;5;28;01mraise\u001b[39;00m WorkspaceException(\u001b[38;5;124m\"\u001b[39m\u001b[38;5;124mResource group was not found.\u001b[39m\u001b[38;5;124m\"\u001b[39m)\n\u001b[0;32m    386\u001b[0m \u001b[38;5;28;01mfrom\u001b[39;00m \u001b[38;5;21;01mazureml\u001b[39;00m\u001b[38;5;21;01m.\u001b[39;00m\u001b[38;5;21;01m_workspace\u001b[39;00m\u001b[38;5;21;01m.\u001b[39;00m\u001b[38;5;21;01mcustom\u001b[39;00m \u001b[38;5;28;01mimport\u001b[39;00m ml_workspace_create_resources\n\u001b[1;32m--> 387\u001b[0m \u001b[38;5;28;01mreturn\u001b[39;00m \u001b[43mml_workspace_create_resources\u001b[49m\u001b[43m(\u001b[49m\n\u001b[0;32m    388\u001b[0m \u001b[43m    \u001b[49m\u001b[43mauth\u001b[49m\u001b[43m,\u001b[49m\u001b[43m \u001b[49m\u001b[43mauth\u001b[49m\u001b[38;5;241;43m.\u001b[39;49m\u001b[43m_get_service_client\u001b[49m\u001b[43m(\u001b[49m\n\u001b[0;32m    389\u001b[0m \u001b[43m\u001b[49m\u001b[43mAzureMachineLearningWorkspaces\u001b[49m\u001b[43m,\u001b[49m\u001b[43m \u001b[49m\u001b[43msubscription_id\u001b[49m\u001b[43m)\u001b[49m\u001b[38;5;241;43m.\u001b[39;49m\u001b[43mworkspaces\u001b[49m\u001b[43m,\u001b[49m\n\u001b[0;32m    390\u001b[0m \u001b[43m    \u001b[49m\u001b[43mresource_group_name\u001b[49m\u001b[43m,\u001b[49m\n\u001b[0;32m    391\u001b[0m \u001b[43m    \u001b[49m\u001b[43mworkspace_name\u001b[49m\u001b[43m,\u001b[49m\n\u001b[0;32m    392\u001b[0m \u001b[43m    \u001b[49m\u001b[43mlocation\u001b[49m\u001b[43m,\u001b[49m\n\u001b[0;32m    393\u001b[0m \u001b[43m    \u001b[49m\u001b[43mvnet_location\u001b[49m\u001b[38;5;241;43m=\u001b[39;49m\u001b[43mvnet_location\u001b[49m\u001b[43m,\u001b[49m\n\u001b[0;32m    394\u001b[0m \u001b[43m    \u001b[49m\u001b[43msubscription_id\u001b[49m\u001b[38;5;241;43m=\u001b[39;49m\u001b[43msubscription_id\u001b[49m\u001b[43m,\u001b[49m\n\u001b[0;32m    395\u001b[0m \u001b[43m    \u001b[49m\u001b[43mstorage_account\u001b[49m\u001b[38;5;241;43m=\u001b[39;49m\u001b[43mstorage_account\u001b[49m\u001b[43m,\u001b[49m\n\u001b[0;32m    396\u001b[0m \u001b[43m    \u001b[49m\u001b[43mkey_vault\u001b[49m\u001b[38;5;241;43m=\u001b[39;49m\u001b[43mkey_vault\u001b[49m\u001b[43m,\u001b[49m\n\u001b[0;32m    397\u001b[0m \u001b[43m    \u001b[49m\u001b[43mapp_insights\u001b[49m\u001b[38;5;241;43m=\u001b[39;49m\u001b[43mapp_insights\u001b[49m\u001b[43m,\u001b[49m\n\u001b[0;32m    398\u001b[0m \u001b[43m    \u001b[49m\u001b[43mcontainerRegistry\u001b[49m\u001b[38;5;241;43m=\u001b[39;49m\u001b[43mcontainerRegistry\u001b[49m\u001b[43m,\u001b[49m\n\u001b[0;32m    399\u001b[0m \u001b[43m    \u001b[49m\u001b[43madbWorkspace\u001b[49m\u001b[38;5;241;43m=\u001b[39;49m\u001b[43madb_workspace\u001b[49m\u001b[43m,\u001b[49m\n\u001b[0;32m    400\u001b[0m \u001b[43m    \u001b[49m\u001b[43mfriendly_name\u001b[49m\u001b[38;5;241;43m=\u001b[39;49m\u001b[43mfriendly_name\u001b[49m\u001b[43m,\u001b[49m\n\u001b[0;32m    401\u001b[0m \u001b[43m    \u001b[49m\u001b[43mprimary_user_assigned_identity\u001b[49m\u001b[38;5;241;43m=\u001b[39;49m\u001b[43mprimary_user_assigned_identity\u001b[49m\u001b[43m,\u001b[49m\n\u001b[0;32m    402\u001b[0m \u001b[43m    \u001b[49m\u001b[43mcmk_keyvault\u001b[49m\u001b[38;5;241;43m=\u001b[39;49m\u001b[43mcmk_keyvault\u001b[49m\u001b[43m,\u001b[49m\n\u001b[0;32m    403\u001b[0m \u001b[43m    \u001b[49m\u001b[43mresource_cmk_uri\u001b[49m\u001b[38;5;241;43m=\u001b[39;49m\u001b[43mresource_cmk_uri\u001b[49m\u001b[43m,\u001b[49m\n\u001b[0;32m    404\u001b[0m \u001b[43m    \u001b[49m\u001b[43mhbi_workspace\u001b[49m\u001b[38;5;241;43m=\u001b[39;49m\u001b[43mhbi_workspace\u001b[49m\u001b[43m,\u001b[49m\n\u001b[0;32m    405\u001b[0m \u001b[43m    \u001b[49m\u001b[43mdefault_cpu_compute_target\u001b[49m\u001b[38;5;241;43m=\u001b[39;49m\u001b[43mdefault_cpu_compute_target\u001b[49m\u001b[43m,\u001b[49m\n\u001b[0;32m    406\u001b[0m \u001b[43m    \u001b[49m\u001b[43mdefault_gpu_compute_target\u001b[49m\u001b[38;5;241;43m=\u001b[39;49m\u001b[43mdefault_gpu_compute_target\u001b[49m\u001b[43m,\u001b[49m\n\u001b[0;32m    407\u001b[0m \u001b[43m    \u001b[49m\u001b[43mprivate_endpoint_config\u001b[49m\u001b[38;5;241;43m=\u001b[39;49m\u001b[43mprivate_endpoint_config\u001b[49m\u001b[43m,\u001b[49m\n\u001b[0;32m    408\u001b[0m \u001b[43m    \u001b[49m\u001b[43mprivate_endpoint_auto_approval\u001b[49m\u001b[38;5;241;43m=\u001b[39;49m\u001b[43mprivate_endpoint_auto_approval\u001b[49m\u001b[43m,\u001b[49m\n\u001b[0;32m    409\u001b[0m \u001b[43m    \u001b[49m\u001b[43mexist_ok\u001b[49m\u001b[38;5;241;43m=\u001b[39;49m\u001b[43mexist_ok\u001b[49m\u001b[43m,\u001b[49m\n\u001b[0;32m    410\u001b[0m \u001b[43m    \u001b[49m\u001b[43mshow_output\u001b[49m\u001b[38;5;241;43m=\u001b[39;49m\u001b[43mshow_output\u001b[49m\u001b[43m,\u001b[49m\n\u001b[0;32m    411\u001b[0m \u001b[43m    \u001b[49m\u001b[43msku\u001b[49m\u001b[38;5;241;43m=\u001b[39;49m\u001b[43msku\u001b[49m\u001b[43m,\u001b[49m\n\u001b[0;32m    412\u001b[0m \u001b[43m    \u001b[49m\u001b[43mtags\u001b[49m\u001b[38;5;241;43m=\u001b[39;49m\u001b[43mtags\u001b[49m\u001b[43m,\u001b[49m\n\u001b[0;32m    413\u001b[0m \u001b[43m    \u001b[49m\u001b[43muser_assigned_identity_for_cmk_encryption\u001b[49m\u001b[38;5;241;43m=\u001b[39;49m\u001b[43muser_assigned_identity_for_cmk_encryption\u001b[49m\u001b[43m,\u001b[49m\n\u001b[0;32m    414\u001b[0m \u001b[43m    \u001b[49m\u001b[43msystem_datastores_auth_mode\u001b[49m\u001b[38;5;241;43m=\u001b[39;49m\u001b[43msystem_datastores_auth_mode\u001b[49m\u001b[43m,\u001b[49m\n\u001b[0;32m    415\u001b[0m \u001b[43m    \u001b[49m\u001b[43mv1_legacy_mode\u001b[49m\u001b[38;5;241;43m=\u001b[39;49m\u001b[43mv1_legacy_mode\u001b[49m\u001b[43m,\u001b[49m\n\u001b[0;32m    416\u001b[0m \u001b[43m    \u001b[49m\u001b[43mis_update_dependent_resources\u001b[49m\u001b[38;5;241;43m=\u001b[39;49m\u001b[43mis_update_dependent_resources\u001b[49m\u001b[43m,\u001b[49m\n\u001b[0;32m    417\u001b[0m \u001b[43m    \u001b[49m\u001b[43mapi_version\u001b[49m\u001b[38;5;241;43m=\u001b[39;49m\u001b[43mapi_version\u001b[49m\u001b[43m)\u001b[49m\n",
      "File \u001b[1;32m~\\AppData\\Roaming\\Python\\Python310\\site-packages\\azureml\\_workspace\\custom.py:80\u001b[0m, in \u001b[0;36mml_workspace_create_resources\u001b[1;34m(auth, client, resource_group_name, workspace_name, location, vnet_location, subscription_id, friendly_name, storage_account, key_vault, app_insights, containerRegistry, adbWorkspace, primary_user_assigned_identity, cmk_keyvault, resource_cmk_uri, hbi_workspace, default_cpu_compute_target, default_gpu_compute_target, private_endpoint_config, private_endpoint_auto_approval, exist_ok, show_output, sku, tags, user_assigned_identity_for_cmk_encryption, system_datastores_auth_mode, v1_legacy_mode, is_update_dependent_resources, api_version)\u001b[0m\n\u001b[0;32m     78\u001b[0m     \u001b[38;5;28;01melif\u001b[39;00m \u001b[38;5;129;01mnot\u001b[39;00m exist_ok:\n\u001b[0;32m     79\u001b[0m         \u001b[38;5;28;01mfrom\u001b[39;00m \u001b[38;5;21;01mazureml\u001b[39;00m\u001b[38;5;21;01m.\u001b[39;00m\u001b[38;5;21;01m_base_sdk_common\u001b[39;00m\u001b[38;5;21;01m.\u001b[39;00m\u001b[38;5;21;01mcommon\u001b[39;00m \u001b[38;5;28;01mimport\u001b[39;00m get_http_exception_response_string\n\u001b[1;32m---> 80\u001b[0m         \u001b[38;5;28;01mraise\u001b[39;00m WorkspaceException(\n\u001b[0;32m     81\u001b[0m             \u001b[38;5;124m\"\u001b[39m\u001b[38;5;124mWorkspace with name \u001b[39m\u001b[38;5;124m'\u001b[39m\u001b[38;5;132;01m{0}\u001b[39;00m\u001b[38;5;124m'\u001b[39m\u001b[38;5;124m already exists under\u001b[39m\u001b[38;5;124m\"\u001b[39m\n\u001b[0;32m     82\u001b[0m             \u001b[38;5;124m\"\u001b[39m\u001b[38;5;124m resource group with name \u001b[39m\u001b[38;5;124m'\u001b[39m\u001b[38;5;132;01m{1}\u001b[39;00m\u001b[38;5;124m'\u001b[39m\u001b[38;5;124m.\u001b[39m\u001b[38;5;124m\"\u001b[39m\u001b[38;5;241m.\u001b[39mformat(\n\u001b[0;32m     83\u001b[0m                 workspace_name, resource_group_name))\n\u001b[0;32m     84\u001b[0m \u001b[38;5;28;01mexcept\u001b[39;00m ErrorResponseWrapperException \u001b[38;5;28;01mas\u001b[39;00m response_exception:\n\u001b[0;32m     85\u001b[0m     \u001b[38;5;28;01mif\u001b[39;00m response_exception\u001b[38;5;241m.\u001b[39mresponse\u001b[38;5;241m.\u001b[39mstatus_code \u001b[38;5;241m!=\u001b[39m \u001b[38;5;241m404\u001b[39m:\n",
      "\u001b[1;31mWorkspaceException\u001b[0m: WorkspaceException:\n\tMessage: Workspace with name 'mlflow-ws' already exists under resource group with name 'mlflow-rg'.\n\tInnerException None\n\tErrorResponse \n{\n    \"error\": {\n        \"message\": \"Workspace with name 'mlflow-ws' already exists under resource group with name 'mlflow-rg'.\"\n    }\n}"
     ]
    }
   ],
   "source": [
    "# Create a workspace\n",
    "\n",
    "ws = Workspace.create(name=workspace_name,\n",
    "                      subscription_id=subscription_id,\n",
    "                      resource_group=resource_group,\n",
    "                      location=region)\n",
    "\n",
    "print(f'Workspace {workspace_name} created')"
   ]
  },
  {
   "cell_type": "code",
   "execution_count": 21,
   "id": "3a59b584-1f6a-4605-99a2-0d9e649d22b9",
   "metadata": {},
   "outputs": [],
   "source": [
    "# Specify the path to your  model file\n",
    "model_path = 'diabetes_model.pkl'"
   ]
  },
  {
   "cell_type": "code",
   "execution_count": 22,
   "id": "4128cd49-48bf-4a97-a931-8d7c391d7e98",
   "metadata": {},
   "outputs": [],
   "source": [
    "model_name='diabetes_prediction_model'"
   ]
  },
  {
   "cell_type": "code",
   "execution_count": 23,
   "id": "383488f6-6d86-4efc-9906-17547c6c5f53",
   "metadata": {},
   "outputs": [
    {
     "name": "stdout",
     "output_type": "stream",
     "text": [
      "Registering model diabetes_prediction_model\n"
     ]
    }
   ],
   "source": [
    "# Register the model in Azure Machine Learning\n",
    "registered_model = Model.register(model_path=model_path, model_name=model_name, workspace=ws)"
   ]
  },
  {
   "cell_type": "code",
   "execution_count": 24,
   "id": "064fbfc8-b4fd-493a-a383-1f7edb86479a",
   "metadata": {},
   "outputs": [],
   "source": [
    "# Create a Conda environment for your scikit-learn model\n",
    "conda_env = Environment('my-conda-env')\n",
    "conda_env.python.conda_dependencies = CondaDependencies.create(conda_packages=['scikit-learn'])"
   ]
  },
  {
   "cell_type": "code",
   "execution_count": 25,
   "id": "1ff71338-a9a9-4b5c-993d-4ac3091db355",
   "metadata": {},
   "outputs": [],
   "source": [
    "# Create an InferenceConfig\n",
    "inference_config = InferenceConfig(entry_script='score.py', environment=conda_env)"
   ]
  },
  {
   "cell_type": "code",
   "execution_count": 26,
   "id": "17ac0a14-c826-4331-9932-7b9d4b185749",
   "metadata": {},
   "outputs": [],
   "source": [
    "# Specify deployment configuration for ACI\n",
    "aci_config = AciWebservice.deploy_configuration(cpu_cores=1, memory_gb=1)"
   ]
  },
  {
   "cell_type": "code",
   "execution_count": 27,
   "id": "2c72d776-7f1e-49ad-8c43-f837b23e8645",
   "metadata": {},
   "outputs": [
    {
     "name": "stderr",
     "output_type": "stream",
     "text": [
      "C:\\Users\\Chinmay\\AppData\\Local\\Temp\\ipykernel_16928\\3861565384.py:1: FutureWarning: azureml.core.model:\n",
      "To leverage new model deployment capabilities, AzureML recommends using CLI/SDK v2 to deploy models as online endpoint, \n",
      "please refer to respective documentations \n",
      "https://docs.microsoft.com/azure/machine-learning/how-to-deploy-managed-online-endpoints /\n",
      "https://docs.microsoft.com/azure/machine-learning/how-to-attach-kubernetes-anywhere \n",
      "For more information on migration, see https://aka.ms/acimoemigration \n",
      "To disable CLI/SDK v1 deprecation warning set AZUREML_LOG_DEPRECATION_WARNING_ENABLED to 'False'\n",
      "  service = Model.deploy(workspace=ws,\n"
     ]
    },
    {
     "name": "stdout",
     "output_type": "stream",
     "text": [
      "Tips: You can try get_logs(): https://aka.ms/debugimage#dockerlog or local deployment: https://aka.ms/debugimage#debug-locally to debug if deployment takes longer than 10 minutes.\n",
      "Running\n",
      "2024-04-28 20:37:58+05:30 Creating Container Registry if not exists..\n",
      "2024-04-28 20:47:58+05:30 Registering the environment..\n",
      "2024-04-28 20:48:02+05:30 Building image..\n",
      "2024-04-28 20:55:46+05:30 Generating deployment configuration.\n",
      "2024-04-28 20:55:47+05:30 Submitting deployment to compute..\n",
      "2024-04-28 20:55:54+05:30 Checking the status of deployment diabetes-prediction-service..\n",
      "2024-04-28 20:57:08+05:30 Checking the status of inference endpoint diabetes-prediction-service.\n",
      "Succeeded\n",
      "ACI service creation operation finished, operation \"Succeeded\"\n"
     ]
    }
   ],
   "source": [
    "service = Model.deploy(workspace=ws,\n",
    "                       name='diabetes-prediction-service',\n",
    "                       models=[registered_model],\n",
    "                       inference_config=inference_config,\n",
    "                       deployment_config=aci_config)\n",
    "service.wait_for_deployment(show_output=True)"
   ]
  },
  {
   "cell_type": "code",
   "execution_count": 28,
   "id": "69efb038-ad52-46d0-9f17-5acd96151214",
   "metadata": {},
   "outputs": [],
   "source": [
    "scoring_uri = service.scoring_uri"
   ]
  },
  {
   "cell_type": "code",
   "execution_count": 29,
   "id": "731b0f84-6e1a-4cc9-9497-e958f6efbd73",
   "metadata": {},
   "outputs": [
    {
     "data": {
      "text/plain": [
       "'http://74e06c1d-21ff-4baa-901f-c9d31c9a201a.centralindia.azurecontainer.io/score'"
      ]
     },
     "execution_count": 29,
     "metadata": {},
     "output_type": "execute_result"
    }
   ],
   "source": [
    "scoring_uri"
   ]
  },
  {
   "cell_type": "markdown",
   "id": "d5cafb79-2702-4203-977d-4181247fcbd5",
   "metadata": {},
   "source": [
    "**Cleaning up all the created resources**"
   ]
  },
  {
   "cell_type": "code",
   "execution_count": 30,
   "id": "a1895e4a-551d-4472-99bb-8bc2993c699a",
   "metadata": {},
   "outputs": [
    {
     "name": "stdout",
     "output_type": "stream",
     "text": [
      "Running\n",
      "2024-04-28 20:59:54+05:30 Check and wait for operation (ed46da56-50ae-41cb-b736-e7942e2929ce) to finish.\n",
      "2024-04-28 20:59:58+05:30 Deleting service entity.\n",
      "Succeeded\n"
     ]
    }
   ],
   "source": [
    "# Delete the service\n",
    "\n",
    "service_name = \"diabetes-prediction-service\"\n",
    "\n",
    "service = ws.webservices[service_name]\n",
    "service.delete()"
   ]
  },
  {
   "cell_type": "code",
   "execution_count": 31,
   "id": "1f1e57ad-478c-4aed-b33a-08bf3f09632c",
   "metadata": {},
   "outputs": [],
   "source": [
    "# Specify the name of the registered model to delete\n",
    "model_name = 'diabetes_prediction_model'\n",
    "\n",
    "# Delete the model\n",
    "registered_model = ws.models[model_name]\n",
    "registered_model.delete()\n"
   ]
  },
  {
   "cell_type": "code",
   "execution_count": 32,
   "id": "84733dc8-3ddf-47a2-a906-644946a3a888",
   "metadata": {},
   "outputs": [],
   "source": [
    "# Delete the workspace\n",
    "ws.delete(delete_dependent_resources=True)"
   ]
  },
  {
   "cell_type": "code",
   "execution_count": null,
   "id": "ef508ef4-3c96-401a-886c-56b714becc34",
   "metadata": {},
   "outputs": [],
   "source": []
  }
 ],
 "metadata": {
  "kernelspec": {
   "display_name": "Python 3 (ipykernel)",
   "language": "python",
   "name": "python3"
  },
  "language_info": {
   "codemirror_mode": {
    "name": "ipython",
    "version": 3
   },
   "file_extension": ".py",
   "mimetype": "text/x-python",
   "name": "python",
   "nbconvert_exporter": "python",
   "pygments_lexer": "ipython3",
   "version": "3.10.9"
  }
 },
 "nbformat": 4,
 "nbformat_minor": 5
}
